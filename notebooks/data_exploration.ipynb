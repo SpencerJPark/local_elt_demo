{
 "cells": [
  {
   "cell_type": "markdown",
   "metadata": {},
   "source": [
    "# Notebook for initial data exploration"
   ]
  },
  {
   "cell_type": "code",
   "execution_count": 2,
   "metadata": {},
   "outputs": [],
   "source": [
    "import pandas as pd\n",
    "import numpy as np\n",
    "\n",
    "# Load the csv data from https://www.kaggle.com/datasets/flashgordon/usa-airport-dataset\n",
    "df = pd.read_csv('../data/raw/Airports2.csv')"
   ]
  },
  {
   "cell_type": "code",
   "execution_count": 3,
   "metadata": {},
   "outputs": [
    {
     "name": "stdout",
     "output_type": "stream",
     "text": [
      "  Origin_airport Destination_airport    Origin_city Destination_city  \\\n",
      "0            MHK                 AMW  Manhattan, KS         Ames, IA   \n",
      "1            EUG                 RDM     Eugene, OR         Bend, OR   \n",
      "2            EUG                 RDM     Eugene, OR         Bend, OR   \n",
      "3            EUG                 RDM     Eugene, OR         Bend, OR   \n",
      "4            MFR                 RDM    Medford, OR         Bend, OR   \n",
      "\n",
      "   Passengers  Seats  Flights  Distance    Fly_date  Origin_population  \\\n",
      "0          21     30        1       254  2008-10-01             122049   \n",
      "1          41    396       22       103  1990-11-01             284093   \n",
      "2          88    342       19       103  1990-12-01             284093   \n",
      "3          11     72        4       103  1990-10-01             284093   \n",
      "4           0     18        1       156  1990-02-01             147300   \n",
      "\n",
      "   Destination_population  Org_airport_lat  Org_airport_long  \\\n",
      "0                   86219        39.140999        -96.670799   \n",
      "1                   76034        44.124599       -123.211998   \n",
      "2                   76034        44.124599       -123.211998   \n",
      "3                   76034        44.124599       -123.211998   \n",
      "4                   76034        42.374199       -122.873001   \n",
      "\n",
      "   Dest_airport_lat  Dest_airport_long  \n",
      "0               NaN                NaN  \n",
      "1         44.254101        -121.150002  \n",
      "2         44.254101        -121.150002  \n",
      "3         44.254101        -121.150002  \n",
      "4         44.254101        -121.150002  \n"
     ]
    }
   ],
   "source": [
    "# Display the first few rows\n",
    "print(df.head())\n"
   ]
  },
  {
   "cell_type": "markdown",
   "metadata": {},
   "source": [
    "Below I caught that the Fly_date column is not in the datetime dataformate which we will need for proper calculations"
   ]
  },
  {
   "cell_type": "code",
   "execution_count": 4,
   "metadata": {},
   "outputs": [
    {
     "name": "stdout",
     "output_type": "stream",
     "text": [
      "<class 'pandas.core.frame.DataFrame'>\n",
      "RangeIndex: 3606803 entries, 0 to 3606802\n",
      "Data columns (total 15 columns):\n",
      " #   Column                  Dtype  \n",
      "---  ------                  -----  \n",
      " 0   Origin_airport          object \n",
      " 1   Destination_airport     object \n",
      " 2   Origin_city             object \n",
      " 3   Destination_city        object \n",
      " 4   Passengers              int64  \n",
      " 5   Seats                   int64  \n",
      " 6   Flights                 int64  \n",
      " 7   Distance                int64  \n",
      " 8   Fly_date                object \n",
      " 9   Origin_population       int64  \n",
      " 10  Destination_population  int64  \n",
      " 11  Org_airport_lat         float64\n",
      " 12  Org_airport_long        float64\n",
      " 13  Dest_airport_lat        float64\n",
      " 14  Dest_airport_long       float64\n",
      "dtypes: float64(4), int64(6), object(5)\n",
      "memory usage: 412.8+ MB\n",
      "None\n"
     ]
    }
   ],
   "source": [
    "# Get summary information about the dataframe\n",
    "print(df.info())\n"
   ]
  },
  {
   "cell_type": "code",
   "execution_count": 5,
   "metadata": {},
   "outputs": [
    {
     "name": "stdout",
     "output_type": "stream",
     "text": [
      "Origin_airport                    object\n",
      "Destination_airport               object\n",
      "Origin_city                       object\n",
      "Destination_city                  object\n",
      "Passengers                         int64\n",
      "Seats                              int64\n",
      "Flights                            int64\n",
      "Distance                           int64\n",
      "Fly_date                  datetime64[ns]\n",
      "Origin_population                  int64\n",
      "Destination_population             int64\n",
      "Org_airport_lat                  float64\n",
      "Org_airport_long                 float64\n",
      "Dest_airport_lat                 float64\n",
      "Dest_airport_long                float64\n",
      "dtype: object\n"
     ]
    }
   ],
   "source": [
    "# Convert the 'Fly_date' column to datetime type (assuming it's named 'Fly_date')\n",
    "df['Fly_date'] = pd.to_datetime(df['Fly_date'])\n",
    "\n",
    "# Check the data types again\n",
    "print(df.dtypes)"
   ]
  },
  {
   "cell_type": "markdown",
   "metadata": {},
   "source": [
    "Now I am going to modify the date information by creating new columns, this will help make the information more usable down the line, but if I was working in an actual pipeline, it would be most cost effective to make sure this data is captured correctly further up stream."
   ]
  },
  {
   "cell_type": "code",
   "execution_count": 6,
   "metadata": {},
   "outputs": [],
   "source": [
    "import holidays\n",
    "\n",
    "df['Year'] = df['Fly_date'].dt.year\n",
    "df['Month'] = df['Fly_date'].dt.month\n",
    "df['Day_of_Week'] = df['Fly_date'].dt.dayofweek\n",
    "df['Day_of_Month'] = df['Fly_date'].dt.day\n",
    "df['Quarter'] = df['Fly_date'].dt.quarter\n",
    "reference_date = pd.Timestamp('1990-01-01')\n",
    "df['Days_Since_Reference'] = (df['Fly_date'] - reference_date).dt.days\n",
    "df['Month_Sin'] = np.sin(2 * np.pi * df['Month'] / 12)\n",
    "df['Month_Cos'] = np.cos(2 * np.pi * df['Month'] / 12)\n",
    "us_holidays = holidays.US()\n",
    "df['Is_Holiday'] = df['Fly_date'].isin(us_holidays).astype(int)\n",
    "\n",
    "# Function to assign seasons\n",
    "def get_season(month):\n",
    "    if month in [12, 1, 2]:\n",
    "        return 'Winter'\n",
    "    elif month in [3, 4, 5]:\n",
    "        return 'Spring'\n",
    "    elif month in [6, 7, 8]:\n",
    "        return 'Summer'\n",
    "    else:\n",
    "        return 'Fall'\n",
    "\n",
    "df['Season'] = df['Month'].apply(get_season)\n",
    "df = df.drop('Fly_date', axis=1)"
   ]
  },
  {
   "cell_type": "markdown",
   "metadata": {},
   "source": [
    "Below I caught that there are null values for lat and long so I need to explore that part of the data deeper"
   ]
  },
  {
   "cell_type": "code",
   "execution_count": 7,
   "metadata": {},
   "outputs": [
    {
     "name": "stdout",
     "output_type": "stream",
     "text": [
      "Origin_airport               0\n",
      "Destination_airport          0\n",
      "Origin_city                  0\n",
      "Destination_city             0\n",
      "Passengers                   0\n",
      "Seats                        0\n",
      "Flights                      0\n",
      "Distance                     0\n",
      "Origin_population            0\n",
      "Destination_population       0\n",
      "Org_airport_lat           6954\n",
      "Org_airport_long          6954\n",
      "Dest_airport_lat          6807\n",
      "Dest_airport_long         6807\n",
      "Year                         0\n",
      "Month                        0\n",
      "Day_of_Week                  0\n",
      "Day_of_Month                 0\n",
      "Quarter                      0\n",
      "Days_Since_Reference         0\n",
      "Month_Sin                    0\n",
      "Month_Cos                    0\n",
      "Is_Holiday                   0\n",
      "Season                       0\n",
      "dtype: int64\n"
     ]
    }
   ],
   "source": [
    "# Check for missing values\n",
    "print(df.isnull().sum())"
   ]
  },
  {
   "cell_type": "code",
   "execution_count": 8,
   "metadata": {},
   "outputs": [
    {
     "name": "stdout",
     "output_type": "stream",
     "text": [
      "        Origin_airport Destination_airport      Origin_city  \\\n",
      "0                  MHK                 AMW    Manhattan, KS   \n",
      "945                RBG                 RDM     Roseburg, OR   \n",
      "946                RBG                 RDM     Roseburg, OR   \n",
      "947                RBG                 RDM     Roseburg, OR   \n",
      "948                RBG                 RDM     Roseburg, OR   \n",
      "...                ...                 ...              ...   \n",
      "3595391            SCF                 PBI      Phoenix, AZ   \n",
      "3603513            RND                 COS  San Antonio, TX   \n",
      "3604641            HIK                 COS     Honolulu, HI   \n",
      "3606576            YIP                 PHD      Detroit, MI   \n",
      "3606802            FWA                 OH1   Fort Wayne, IN   \n",
      "\n",
      "                   Destination_city  Passengers  Seats  Flights  Distance  \\\n",
      "0                          Ames, IA          21     30        1       254   \n",
      "945                        Bend, OR           0      0        1       131   \n",
      "946                        Bend, OR           0      0        1       131   \n",
      "947                        Bend, OR           0      0        1       131   \n",
      "948                        Bend, OR           0      0        1       131   \n",
      "...                             ...         ...    ...      ...       ...   \n",
      "3595391         West Palm Beach, FL           1      8        1      1955   \n",
      "3603513        Colorado Springs, CO          88    120        1       738   \n",
      "3604641        Colorado Springs, CO          57    210        1      3355   \n",
      "3606576        New Philadelphia, OH           2      6        1       164   \n",
      "3606802  Washington Court House, OH           0      0        1       135   \n",
      "\n",
      "         Origin_population  Destination_population  ...  Year  Month  \\\n",
      "0                   122049                   86219  ...  2008     10   \n",
      "945                 102817                  140962  ...  2005     10   \n",
      "946                 102817                  140962  ...  2005      9   \n",
      "947                 102817                  140962  ...  2005      9   \n",
      "948                 102817                  140962  ...  2005     10   \n",
      "...                    ...                     ...  ...   ...    ...   \n",
      "3595391            4175595                 5465183  ...  2007     11   \n",
      "3603513            1843927                  579810  ...  2004      5   \n",
      "3604641             903467                  601150  ...  2006     10   \n",
      "3606576            8969084                   91163  ...  2006      7   \n",
      "3606802             398574                   28133  ...  2003      9   \n",
      "\n",
      "         Day_of_Week  Day_of_Month  Quarter  Days_Since_Reference  Month_Sin  \\\n",
      "0                  2             1        4                  6848  -0.866025   \n",
      "945                5             1        4                  5752  -0.866025   \n",
      "946                3             1        3                  5722  -1.000000   \n",
      "947                3             1        3                  5722  -1.000000   \n",
      "948                5             1        4                  5752  -0.866025   \n",
      "...              ...           ...      ...                   ...        ...   \n",
      "3595391            3             1        4                  6513  -0.500000   \n",
      "3603513            5             1        2                  5234   0.500000   \n",
      "3604641            6             1        4                  6117  -0.866025   \n",
      "3606576            5             1        3                  6025  -0.500000   \n",
      "3606802            0             1        3                  4991  -1.000000   \n",
      "\n",
      "            Month_Cos  Is_Holiday  Season  \n",
      "0        5.000000e-01           0    Fall  \n",
      "945      5.000000e-01           0    Fall  \n",
      "946     -1.836970e-16           0    Fall  \n",
      "947     -1.836970e-16           0    Fall  \n",
      "948      5.000000e-01           0    Fall  \n",
      "...               ...         ...     ...  \n",
      "3595391  8.660254e-01           0    Fall  \n",
      "3603513 -8.660254e-01           0  Spring  \n",
      "3604641  5.000000e-01           0    Fall  \n",
      "3606576 -8.660254e-01           0  Summer  \n",
      "3606802 -1.836970e-16           0    Fall  \n",
      "\n",
      "[12351 rows x 24 columns]\n"
     ]
    }
   ],
   "source": [
    "# Filter the DataFrame for null latitude and longitude values\n",
    "null_lat_long = df[df[['Org_airport_lat', 'Org_airport_long', 'Dest_airport_lat', 'Dest_airport_long']].isnull().any(axis=1)]\n",
    "\n",
    "# Display the filtered DataFrame\n",
    "print(null_lat_long)"
   ]
  },
  {
   "cell_type": "code",
   "execution_count": 9,
   "metadata": {},
   "outputs": [
    {
     "name": "stdout",
     "output_type": "stream",
     "text": [
      "The CSV file has 3606803 rows.\n"
     ]
    }
   ],
   "source": [
    "# Get the number of rows\n",
    "num_rows = df.shape[0]\n",
    "\n",
    "# Print the number of rows\n",
    "print(f'The CSV file has {num_rows} rows.')"
   ]
  },
  {
   "cell_type": "markdown",
   "metadata": {},
   "source": [
    "Since the null values are a small percentage of the total rows (0.004%) I am going to drop them."
   ]
  },
  {
   "cell_type": "code",
   "execution_count": 10,
   "metadata": {},
   "outputs": [
    {
     "name": "stdout",
     "output_type": "stream",
     "text": [
      "        Origin_airport Destination_airport         Origin_city  \\\n",
      "1                  EUG                 RDM          Eugene, OR   \n",
      "2                  EUG                 RDM          Eugene, OR   \n",
      "3                  EUG                 RDM          Eugene, OR   \n",
      "4                  MFR                 RDM         Medford, OR   \n",
      "5                  MFR                 RDM         Medford, OR   \n",
      "...                ...                 ...                 ...   \n",
      "3606797            STL                 TBN       St. Louis, MO   \n",
      "3606798            STL                 TBN       St. Louis, MO   \n",
      "3606799            STL                 TBN       St. Louis, MO   \n",
      "3606800            STL                 TBN       St. Louis, MO   \n",
      "3606801            CGI                 TBN  Cape Girardeau, MO   \n",
      "\n",
      "              Destination_city  Passengers  Seats  Flights  Distance  \\\n",
      "1                     Bend, OR          41    396       22       103   \n",
      "2                     Bend, OR          88    342       19       103   \n",
      "3                     Bend, OR          11     72        4       103   \n",
      "4                     Bend, OR           0     18        1       156   \n",
      "5                     Bend, OR          11     18        1       156   \n",
      "...                        ...         ...    ...      ...       ...   \n",
      "3606797  Fort Leonard Wood, MO         292   1311       69       119   \n",
      "3606798  Fort Leonard Wood, MO         281    969       51       119   \n",
      "3606799  Fort Leonard Wood, MO         245   1026       54       119   \n",
      "3606800  Fort Leonard Wood, MO         363   1273       67       119   \n",
      "3606801  Fort Leonard Wood, MO           2     19        1       146   \n",
      "\n",
      "         Origin_population  Destination_population  ...  Year  Month  \\\n",
      "1                   284093                   76034  ...  1990     11   \n",
      "2                   284093                   76034  ...  1990     12   \n",
      "3                   284093                   76034  ...  1990     10   \n",
      "4                   147300                   76034  ...  1990      2   \n",
      "5                   147300                   76034  ...  1990      3   \n",
      "...                    ...                     ...  ...   ...    ...   \n",
      "3606797            2828990                   46457  ...  2009      6   \n",
      "3606798            2828990                   46457  ...  2009      2   \n",
      "3606799            2828990                   46457  ...  2009     11   \n",
      "3606800            2828990                   46457  ...  2009      8   \n",
      "3606801              93712                   46457  ...  2009      8   \n",
      "\n",
      "         Day_of_Week  Day_of_Month  Quarter  Days_Since_Reference  \\\n",
      "1                  3             1        4                   304   \n",
      "2                  5             1        4                   334   \n",
      "3                  0             1        4                   273   \n",
      "4                  3             1        1                    31   \n",
      "5                  3             1        1                    59   \n",
      "...              ...           ...      ...                   ...   \n",
      "3606797            0             1        2                  7091   \n",
      "3606798            6             1        1                  6971   \n",
      "3606799            6             1        4                  7244   \n",
      "3606800            5             1        3                  7152   \n",
      "3606801            5             1        3                  7152   \n",
      "\n",
      "            Month_Sin     Month_Cos  Is_Holiday  Season  \n",
      "1       -5.000000e-01  8.660254e-01           0    Fall  \n",
      "2       -2.449294e-16  1.000000e+00           0  Winter  \n",
      "3       -8.660254e-01  5.000000e-01           0    Fall  \n",
      "4        8.660254e-01  5.000000e-01           0  Winter  \n",
      "5        1.000000e+00  6.123234e-17           0  Spring  \n",
      "...               ...           ...         ...     ...  \n",
      "3606797  1.224647e-16 -1.000000e+00           0  Summer  \n",
      "3606798  8.660254e-01  5.000000e-01           0  Winter  \n",
      "3606799 -5.000000e-01  8.660254e-01           0    Fall  \n",
      "3606800 -8.660254e-01 -5.000000e-01           0  Summer  \n",
      "3606801 -8.660254e-01 -5.000000e-01           0  Summer  \n",
      "\n",
      "[3594452 rows x 24 columns]\n",
      "Number of rows dropped: 12351\n"
     ]
    }
   ],
   "source": [
    "# Drop rows with null values in specified latitude and longitude columns\n",
    "df_cleaned = df.dropna(subset=['Org_airport_lat', 'Org_airport_long', 'Dest_airport_lat', 'Dest_airport_long'])\n",
    "\n",
    "# Display the cleaned DataFrame\n",
    "print(df_cleaned)\n",
    "\n",
    "# Optionally, check how many rows were dropped\n",
    "print(f'Number of rows dropped: {len(df) - len(df_cleaned)}')"
   ]
  },
  {
   "cell_type": "code",
   "execution_count": 11,
   "metadata": {},
   "outputs": [
    {
     "name": "stdout",
     "output_type": "stream",
     "text": [
      "Origin_airport            0\n",
      "Destination_airport       0\n",
      "Origin_city               0\n",
      "Destination_city          0\n",
      "Passengers                0\n",
      "Seats                     0\n",
      "Flights                   0\n",
      "Distance                  0\n",
      "Origin_population         0\n",
      "Destination_population    0\n",
      "Org_airport_lat           0\n",
      "Org_airport_long          0\n",
      "Dest_airport_lat          0\n",
      "Dest_airport_long         0\n",
      "Year                      0\n",
      "Month                     0\n",
      "Day_of_Week               0\n",
      "Day_of_Month              0\n",
      "Quarter                   0\n",
      "Days_Since_Reference      0\n",
      "Month_Sin                 0\n",
      "Month_Cos                 0\n",
      "Is_Holiday                0\n",
      "Season                    0\n",
      "dtype: int64\n"
     ]
    }
   ],
   "source": [
    "# last check for missing values\n",
    "print(df_cleaned.isnull().sum())"
   ]
  },
  {
   "cell_type": "markdown",
   "metadata": {},
   "source": [
    "Now I am going to save the cleaned data to a sqlite database in the processed folder"
   ]
  },
  {
   "cell_type": "code",
   "execution_count": 12,
   "metadata": {},
   "outputs": [],
   "source": [
    "import os\n",
    "from sqlalchemy import create_engine\n",
    "\n",
    "# Specify the path to your processed data folder\n",
    "processed_data_folder = '../data/processed'\n",
    "\n",
    "# Ensure the folder exists\n",
    "if not os.path.exists(processed_data_folder):\n",
    "    os.makedirs(processed_data_folder)\n",
    "\n",
    "# Define the path to the SQLite database file\n",
    "sqlite_db_path = os.path.join(processed_data_folder, 'cleaned_data.db')"
   ]
  },
  {
   "cell_type": "code",
   "execution_count": 13,
   "metadata": {},
   "outputs": [],
   "source": [
    "# Create an SQLite engine that connects to the database\n",
    "engine = create_engine(f'sqlite:///{sqlite_db_path}')"
   ]
  },
  {
   "cell_type": "code",
   "execution_count": 14,
   "metadata": {},
   "outputs": [
    {
     "name": "stdout",
     "output_type": "stream",
     "text": [
      "Cleaned data has been saved to the SQLite database at: ../data/processed\\cleaned_data.db\n"
     ]
    }
   ],
   "source": [
    "# Save the cleaned DataFrame to an SQLite table\n",
    "df_cleaned.to_sql('cleaned_flight_data', engine, if_exists='replace', index=False)\n",
    "\n",
    "# Confirm the process\n",
    "print(f\"Cleaned data has been saved to the SQLite database at: {sqlite_db_path}\")"
   ]
  },
  {
   "cell_type": "code",
   "execution_count": 15,
   "metadata": {},
   "outputs": [
    {
     "name": "stdout",
     "output_type": "stream",
     "text": [
      "  Origin_airport Destination_airport  Origin_city Destination_city  \\\n",
      "0            EUG                 RDM   Eugene, OR         Bend, OR   \n",
      "1            EUG                 RDM   Eugene, OR         Bend, OR   \n",
      "2            EUG                 RDM   Eugene, OR         Bend, OR   \n",
      "3            MFR                 RDM  Medford, OR         Bend, OR   \n",
      "4            MFR                 RDM  Medford, OR         Bend, OR   \n",
      "\n",
      "   Passengers  Seats  Flights  Distance  Origin_population  \\\n",
      "0          41    396       22       103             284093   \n",
      "1          88    342       19       103             284093   \n",
      "2          11     72        4       103             284093   \n",
      "3           0     18        1       156             147300   \n",
      "4          11     18        1       156             147300   \n",
      "\n",
      "   Destination_population  ...  Year  Month  Day_of_Week  Day_of_Month  \\\n",
      "0                   76034  ...  1990     11            3             1   \n",
      "1                   76034  ...  1990     12            5             1   \n",
      "2                   76034  ...  1990     10            0             1   \n",
      "3                   76034  ...  1990      2            3             1   \n",
      "4                   76034  ...  1990      3            3             1   \n",
      "\n",
      "   Quarter  Days_Since_Reference     Month_Sin     Month_Cos  Is_Holiday  \\\n",
      "0        4                   304 -5.000000e-01  8.660254e-01           0   \n",
      "1        4                   334 -2.449294e-16  1.000000e+00           0   \n",
      "2        4                   273 -8.660254e-01  5.000000e-01           0   \n",
      "3        1                    31  8.660254e-01  5.000000e-01           0   \n",
      "4        1                    59  1.000000e+00  6.123234e-17           0   \n",
      "\n",
      "   Season  \n",
      "0    Fall  \n",
      "1  Winter  \n",
      "2    Fall  \n",
      "3  Winter  \n",
      "4  Spring  \n",
      "\n",
      "[5 rows x 24 columns]\n"
     ]
    }
   ],
   "source": [
    "# Query the saved data from the SQLite table\n",
    "df_from_sql = pd.read_sql('cleaned_flight_data', engine)\n",
    "\n",
    "# Display the retrieved data\n",
    "print(df_from_sql.head())"
   ]
  }
 ],
 "metadata": {
  "kernelspec": {
   "display_name": "venv",
   "language": "python",
   "name": "python3"
  },
  "language_info": {
   "codemirror_mode": {
    "name": "ipython",
    "version": 3
   },
   "file_extension": ".py",
   "mimetype": "text/x-python",
   "name": "python",
   "nbconvert_exporter": "python",
   "pygments_lexer": "ipython3",
   "version": "3.12.7"
  }
 },
 "nbformat": 4,
 "nbformat_minor": 2
}
